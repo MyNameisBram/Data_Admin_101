{
 "cells": [
  {
   "cell_type": "markdown",
   "metadata": {},
   "source": [
    "# Database Admin - Starter\n",
    "This is the beggining of the database admin realm. We'll learn how to create and alter an existing database. \n",
    "\n",
    "# Objectives\n",
    "- Create a SQL database \n",
    "- Create a SQL table \n",
    "- Create rows in a SQL table \n",
    "- Alter entries \n",
    "- Delete entries \n",
    "- Commit changes using SQLite3"
   ]
  },
  {
   "cell_type": "markdown",
   "metadata": {},
   "source": [
    "## Working Directory - Previewing Files\n",
    "In bash, you can use `ls` command to preview files and folders in the current working directory. "
   ]
  },
  {
   "cell_type": "code",
   "execution_count": 5,
   "metadata": {},
   "outputs": [
    {
     "name": "stdout",
     "output_type": "stream",
     "text": [
      "Data_admin_101.ipynb  README.md\n"
     ]
    }
   ],
   "source": [
    "ls "
   ]
  },
  {
   "cell_type": "markdown",
   "metadata": {},
   "source": [
    "## Creating a Database\n",
    "Creating a database is as easy as connecting a database to a non-existing database. "
   ]
  },
  {
   "cell_type": "code",
   "execution_count": 6,
   "metadata": {},
   "outputs": [],
   "source": [
    "import sqlite3\n",
    "\n",
    "conn = sqlite3.connect('pets.db')\n",
    "c = conn.cursor()"
   ]
  },
  {
   "cell_type": "markdown",
   "metadata": {},
   "source": [
    "## Repreview your Files \n",
    "Use the `ls` command again. You should see you newly created database there."
   ]
  },
  {
   "cell_type": "code",
   "execution_count": 7,
   "metadata": {},
   "outputs": [
    {
     "name": "stdout",
     "output_type": "stream",
     "text": [
      "Data_admin_101.ipynb  README.md             pets.db\n"
     ]
    }
   ],
   "source": [
    "ls"
   ]
  },
  {
   "cell_type": "markdown",
   "metadata": {},
   "source": [
    "## Creating Tables \n",
    "Remember we use our cursor to execute our SQL statments and statements must be wrapped in quotes ('''SQL statement here''') "
   ]
  },
  {
   "cell_type": "code",
   "execution_count": 8,
   "metadata": {},
   "outputs": [
    {
     "data": {
      "text/plain": [
       "<sqlite3.Cursor at 0x103083ab0>"
      ]
     },
     "execution_count": 8,
     "metadata": {},
     "output_type": "execute_result"
    }
   ],
   "source": [
    "# creating table called \"cats\"\n",
    "c.execute('''CREATE TABLE cats (\n",
    "                                id INTEGER PRIMARY KEY, \n",
    "                                name TEXT,\n",
    "                                age INTEGER,\n",
    "                                breed TEXT)\n",
    "            ''')"
   ]
  },
  {
   "cell_type": "markdown",
   "metadata": {},
   "source": [
    "## Populating Tables \n",
    "- `INSERT INTO` command to populate a table\n",
    "- followed by `VALUES` keyword accompanied by a parentheses with values enclosed that correspond to each column name. \n",
    "\n",
    "Important: You don't have to specify the \"id\" column name or value because the `PRIMARY KEY` columns are auto-incrementing. An id will automatically generate once you input new data. \n"
   ]
  },
  {
   "cell_type": "markdown",
   "metadata": {},
   "source": [
    "## `INSERT INTO`"
   ]
  },
  {
   "cell_type": "code",
   "execution_count": 9,
   "metadata": {},
   "outputs": [
    {
     "data": {
      "text/plain": [
       "<sqlite3.Cursor at 0x103083ab0>"
      ]
     },
     "execution_count": 9,
     "metadata": {},
     "output_type": "execute_result"
    }
   ],
   "source": [
    "c.execute('''INSERT INTO cats (name, age, breed)\n",
    "            VALUES ('Hodor', 4, 'Russian Blue');\n",
    "        ''')"
   ]
  },
  {
   "cell_type": "markdown",
   "metadata": {},
   "source": [
    "## Altering a Table \n",
    "You can updat a table using this general patter: \n",
    "`ALTER TABLE table_name ADD COLUMN column_name column_type;`\n",
    "\n",
    "## Updating data\n",
    "The `UPDATE` keyword is used to change prexisting rows within a table. \n",
    "\n",
    "A boilerplate `UPDATE` statement looks like below:"
   ]
  },
  {
   "cell_type": "code",
   "execution_count": null,
   "metadata": {},
   "outputs": [],
   "source": [
    "c.execute('''UPDATE [table_name]\n",
    "            SET [column_name] = [new_value]\n",
    "            WHERE [column_name] = [value]\n",
    "        ''')"
   ]
  },
  {
   "cell_type": "markdown",
   "metadata": {},
   "source": [
    "### Example:"
   ]
  },
  {
   "cell_type": "code",
   "execution_count": 10,
   "metadata": {},
   "outputs": [
    {
     "data": {
      "text/plain": [
       "<sqlite3.Cursor at 0x103083ab0>"
      ]
     },
     "execution_count": 10,
     "metadata": {},
     "output_type": "execute_result"
    }
   ],
   "source": [
    "c.execute('''UPDATE cats\n",
    "            SET name = 'Hana'\n",
    "            WHERE name = 'Hannah';\n",
    "        ''')"
   ]
  },
  {
   "cell_type": "markdown",
   "metadata": {},
   "source": [
    "## Deleting Data\n",
    "A boiler plate of a `DELETE` statement looks like this: "
   ]
  },
  {
   "cell_type": "code",
   "execution_count": null,
   "metadata": {},
   "outputs": [],
   "source": [
    "c.execute('''DELETE FROM [table_name] WHERE [column_name] = [value];''')"
   ]
  },
  {
   "cell_type": "code",
   "execution_count": 11,
   "metadata": {},
   "outputs": [
    {
     "data": {
      "text/plain": [
       "<sqlite3.Cursor at 0x103083ab0>"
      ]
     },
     "execution_count": 11,
     "metadata": {},
     "output_type": "execute_result"
    }
   ],
   "source": [
    "c.execute('''DELETE FROM cats WHERE id = 2;''')"
   ]
  },
  {
   "cell_type": "markdown",
   "metadata": {},
   "source": [
    "## Saving Changes\n",
    "Changes need to be saved if you are planning to connect the database from another jupyter notebook. You have to commit changes to the master database so that other users and connections can also view the updates. "
   ]
  },
  {
   "cell_type": "code",
   "execution_count": 12,
   "metadata": {},
   "outputs": [
    {
     "data": {
      "text/plain": [
       "[(1, 'Hodor', 4, 'Russian Blue')]"
      ]
     },
     "execution_count": 12,
     "metadata": {},
     "output_type": "execute_result"
    }
   ],
   "source": [
    "# preview the table \n",
    "c.execute('''SELECT * FROM cats;''').fetchall()"
   ]
  },
  {
   "cell_type": "markdown",
   "metadata": {},
   "source": [
    "To demonstrate these changes aren't reflected to other connections, create a secon connection/cursor anr try it out."
   ]
  },
  {
   "cell_type": "code",
   "execution_count": 14,
   "metadata": {},
   "outputs": [
    {
     "data": {
      "text/plain": [
       "[]"
      ]
     },
     "execution_count": 14,
     "metadata": {},
     "output_type": "execute_result"
    }
   ],
   "source": [
    "#Preview the table via a second current cursor/connection \n",
    "#Don't overwrite the previous connection: you'll lose all of your work!\n",
    "conn2 = sqlite3.connect('pets.db')\n",
    "cur2 = conn2.cursor()\n",
    "cur2.execute(\"\"\"SELECT * FROM cats;\"\"\").fetchall()"
   ]
  },
  {
   "cell_type": "markdown",
   "metadata": {},
   "source": [
    "The second connection doesn't dipslay the data or even read the `cats` table we created. To make changes universally accessible, you must commit the changes. \n",
    "\n",
    "`conn.commit()`"
   ]
  },
  {
   "cell_type": "code",
   "execution_count": 15,
   "metadata": {},
   "outputs": [],
   "source": [
    "# commit changes to the master database \n",
    "conn.commit()"
   ]
  },
  {
   "cell_type": "markdown",
   "metadata": {},
   "source": [
    "Now, try to reload the second connection. The updates should populate the table."
   ]
  },
  {
   "cell_type": "code",
   "execution_count": 16,
   "metadata": {},
   "outputs": [
    {
     "data": {
      "text/plain": [
       "[(1, 'Hodor', 4, 'Russian Blue')]"
      ]
     },
     "execution_count": 16,
     "metadata": {},
     "output_type": "execute_result"
    }
   ],
   "source": [
    "#Preview the table via a reloaded second current cursor/connection \n",
    "conn2 = sqlite3.connect('pets.db')\n",
    "cur2 = conn2.cursor()\n",
    "cur2.execute(\"\"\"SELECT * FROM cats;\"\"\").fetchall()"
   ]
  },
  {
   "cell_type": "markdown",
   "metadata": {},
   "source": [
    "Voila! You've created, edited and deleted tables and databases using SQL! "
   ]
  },
  {
   "cell_type": "code",
   "execution_count": null,
   "metadata": {},
   "outputs": [],
   "source": []
  }
 ],
 "metadata": {
  "kernelspec": {
   "display_name": "Python 3",
   "language": "python",
   "name": "python3"
  },
  "language_info": {
   "codemirror_mode": {
    "name": "ipython",
    "version": 3
   },
   "file_extension": ".py",
   "mimetype": "text/x-python",
   "name": "python",
   "nbconvert_exporter": "python",
   "pygments_lexer": "ipython3",
   "version": "3.6.6"
  }
 },
 "nbformat": 4,
 "nbformat_minor": 2
}
